{
  "nbformat": 4,
  "nbformat_minor": 0,
  "metadata": {
    "colab": {
      "provenance": [],
      "authorship_tag": "ABX9TyOsJxFHXQ8Wo4WDPC5AJfCX",
      "include_colab_link": true
    },
    "kernelspec": {
      "name": "python3",
      "display_name": "Python 3"
    },
    "language_info": {
      "name": "python"
    }
  },
  "cells": [
    {
      "cell_type": "markdown",
      "metadata": {
        "id": "view-in-github",
        "colab_type": "text"
      },
      "source": [
        "<a href=\"https://colab.research.google.com/github/Junio-roque/python_googlecolab/blob/main/lacoDeRepeticao.ipynb\" target=\"_parent\"><img src=\"https://colab.research.google.com/assets/colab-badge.svg\" alt=\"Open In Colab\"/></a>"
      ]
    },
    {
      "cell_type": "code",
      "execution_count": null,
      "metadata": {
        "colab": {
          "base_uri": "https://localhost:8080/"
        },
        "id": "mh5aHYkH920m",
        "outputId": "efeddc1d-f1c9-403b-dd2f-72519b34bb27"
      },
      "outputs": [
        {
          "output_type": "stream",
          "name": "stdout",
          "text": [
            "1\n",
            "2\n",
            "3\n",
            "4\n",
            "5\n",
            "6\n",
            "7\n",
            "8\n",
            "9\n",
            "10\n",
            "11\n",
            "12\n",
            "14\n",
            "15\n",
            "16\n",
            "17\n",
            "18\n",
            "19\n",
            "20\n"
          ]
        }
      ],
      "source": [
        "#Imprimir um número para cada andar de um hotel de 20 andares.\n",
        "#Exceto o numero 13.\n",
        "#Imprime eles de ordem decrescente,(e em outros laços de repetição).\n",
        "\n",
        "for i in range(1, 21):\n",
        "  if(i == 13):\n",
        "    continue\n",
        "  else:\n",
        "   print(i)\n"
      ]
    },
    {
      "cell_type": "code",
      "source": [
        "#(e em outros laços de repetição).\n",
        "for i in range(20, 0, -1):\n",
        "  if(i == 13):\n",
        "    continue\n",
        "  else:\n",
        "   print(i)"
      ],
      "metadata": {
        "id": "xxZ8y2GQA-6F",
        "colab": {
          "base_uri": "https://localhost:8080/"
        },
        "outputId": "638d435d-3f91-408e-8e53-5103b488ef8f"
      },
      "execution_count": null,
      "outputs": [
        {
          "output_type": "stream",
          "name": "stdout",
          "text": [
            "20\n",
            "19\n",
            "18\n",
            "17\n",
            "16\n",
            "15\n",
            "14\n",
            "12\n",
            "11\n",
            "10\n",
            "9\n",
            "8\n",
            "7\n",
            "6\n",
            "5\n",
            "4\n",
            "3\n",
            "2\n",
            "1\n"
          ]
        }
      ]
    },
    {
      "cell_type": "code",
      "source": [
        "#Usando While\n",
        "posicao = 0\n",
        "while posicao < 20:\n",
        "    posicao += 1\n",
        "    if posicao == 13:\n",
        "        continue\n",
        "    print(posicao)"
      ],
      "metadata": {
        "colab": {
          "base_uri": "https://localhost:8080/"
        },
        "id": "uO8_E_uACCM2",
        "outputId": "89145b05-d21f-4dd8-debe-b2daf1e5d438"
      },
      "execution_count": 28,
      "outputs": [
        {
          "output_type": "stream",
          "name": "stdout",
          "text": [
            "1\n",
            "2\n",
            "3\n",
            "4\n",
            "5\n",
            "6\n",
            "7\n",
            "8\n",
            "9\n",
            "10\n",
            "11\n",
            "12\n",
            "14\n",
            "15\n",
            "16\n",
            "17\n",
            "18\n",
            "19\n",
            "20\n"
          ]
        }
      ]
    },
    {
      "cell_type": "code",
      "source": [
        "#Usando While\n",
        "posicao = 21\n",
        "while 1 < posicao:\n",
        "    posicao -= 1\n",
        "    if posicao == 13:\n",
        "        continue\n",
        "    print(posicao)"
      ],
      "metadata": {
        "id": "d47EsFWUEnVB",
        "colab": {
          "base_uri": "https://localhost:8080/"
        },
        "outputId": "0af06be6-3c45-46ae-8ffa-5ee57b6cee21"
      },
      "execution_count": 43,
      "outputs": [
        {
          "output_type": "stream",
          "name": "stdout",
          "text": [
            "20\n",
            "19\n",
            "18\n",
            "17\n",
            "16\n",
            "15\n",
            "14\n",
            "12\n",
            "11\n",
            "10\n",
            "9\n",
            "8\n",
            "7\n",
            "6\n",
            "5\n",
            "4\n",
            "3\n",
            "2\n",
            "1\n"
          ]
        }
      ]
    }
  ]
}