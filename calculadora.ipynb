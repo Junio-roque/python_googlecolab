{
  "cells": [
    {
      "cell_type": "markdown",
      "metadata": {
        "id": "view-in-github",
        "colab_type": "text"
      },
      "source": [
        "<a href=\"https://colab.research.google.com/github/Junio-roque/python_googlecolab/blob/main/calculadora.ipynb\" target=\"_parent\"><img src=\"https://colab.research.google.com/assets/colab-badge.svg\" alt=\"Open In Colab\"/></a>"
      ]
    },
    {
      "cell_type": "markdown",
      "metadata": {
        "id": "5cfL3adSZGAR"
      },
      "source": [
        "<p>\n",
        "Faça uma função calculadora que os números e as operações serão feitas pelo usuário.<br> O código deve ficar rodando infinitamente até que o usuário escolha a opção de sair. <br>No início, o programa mostrará a seguinte lista de operações:<br>\n",
        "\n",
        "   1: Soma<br>\n",
        "   2: Subtração<br>\n",
        "   3: Multiplicação<br>\n",
        "   4: Divisão<br>\n",
        "   0: Sair<br>\n",
        "\n",
        "\n",
        "Digite o número para a operação correspondente e caso o usuário introduza qualquer outro, o sistema deve mostrar a mensagem<u> “Essa opção não existe” </u>e voltar ao menu de opções.\n",
        "\n",
        "Após a seleção, o sistema deve pedir para o usuário inserir o primeiro e segundo valor, um de cada. Depois precisa executar a operação e mostrar o resultado na tela. Quando o usuário escolher a opção “Sair”, o sistema irá parar.\n",
        "\n",
        "É necessário que o sistema mostre as opções sempre que finalizar uma operação e mostrar o resultado.\n",
        "</p>"
      ]
    },
    {
      "cell_type": "code",
      "execution_count": 11,
      "metadata": {
        "colab": {
          "base_uri": "https://localhost:8080/"
        },
        "id": "9FqdQmXbbYok",
        "outputId": "a00babb8-e473-4143-8f12-2aeaee03adf9"
      },
      "outputs": [
        {
          "output_type": "stream",
          "name": "stdout",
          "text": [
            "\n",
            "Vamos resolver os calculos?\n",
            "Você irá digitar dois numeros.\")\n",
            "O programa mostrará a seguinte lista de operações:\n",
            "      1 = Soma\n",
            "      2 = Subtração\n",
            "      3 = Multiplicação\n",
            "      4 = Divisão\n",
            "      0 = Sair do sistema.\n",
            "\n",
            "Digite o numero da operação que você deseja? 1\n",
            "Digite o primeiro numero: 1\n",
            "Digite o segundo numero: 1\n",
            "2\n",
            "Digite o numero da operação que você deseja? 2\n",
            "Digite o primeiro numero: 2\n",
            "Digite o segundo numero: 2\n",
            "0\n",
            "Digite o numero da operação que você deseja? 0\n",
            "Sistema em encerrado.\n"
          ]
        }
      ],
      "source": [
        "print(\"\"\"\n",
        "Vamos resolver os calculos?\n",
        "Você irá digitar dois numeros.\")\n",
        "O programa mostrará a seguinte lista de operações:\n",
        "      1 = Soma\n",
        "      2 = Subtração\n",
        "      3 = Multiplicação\n",
        "      4 = Divisão\n",
        "      0 = Sair do sistema.\n",
        "\"\"\")\n",
        "\n",
        "contador = 0\n",
        "\n",
        "def calculadora(operacao):\n",
        "\n",
        "     if(operacao == 1):\n",
        "      num1 = int(input(\"Digite o primeiro numero: \"))\n",
        "      num2 = int(input(\"Digite o segundo numero: \"))\n",
        "      contador = num1 + num2\n",
        "      return contador\n",
        "     elif(operacao == 2):\n",
        "      num1 = int(input(\"Digite o primeiro numero: \"))\n",
        "      num2 = int(input(\"Digite o segundo numero: \"))\n",
        "      contador = num1 - num2\n",
        "      return contador\n",
        "     elif(operacao == 3):\n",
        "      num1 = int(input(\"Digite o primeiro numero: \"))\n",
        "      num2 = int(input(\"Digite o segundo numero: \"))\n",
        "      contador = num1 * num2\n",
        "      return contador\n",
        "     elif(operacao == 4):\n",
        "      num1 = int(input(\"Digite o primeiro numero: \"))\n",
        "      num2 = int(input(\"Digite o segundo numero: \"))\n",
        "      contador = num1 / num2\n",
        "      return contador\n",
        "     else :\n",
        "      print(\"Opção invalida digite o numero que corresponde ao MENU.\")\n",
        "\n",
        "\n",
        "while(True):\n",
        "   contador += 1\n",
        "   operacao = int(input(\"Digite o numero da operação que você deseja? \"))\n",
        "   if(operacao == 0):\n",
        "     print(\"Sistema em encerrado.\")\n",
        "     break\n",
        "   else :\n",
        "    dados = calculadora(operacao)\n",
        "\n",
        "    print(dados)\n",
        "\n",
        "\n"
      ]
    }
  ],
  "metadata": {
    "colab": {
      "provenance": [],
      "authorship_tag": "ABX9TyNR92Sa0Ti0fVsKQ2f+FjM4",
      "include_colab_link": true
    },
    "kernelspec": {
      "display_name": "Python 3",
      "name": "python3"
    },
    "language_info": {
      "name": "python"
    }
  },
  "nbformat": 4,
  "nbformat_minor": 0
}