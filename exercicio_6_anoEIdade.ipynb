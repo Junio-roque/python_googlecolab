{
  "nbformat": 4,
  "nbformat_minor": 0,
  "metadata": {
    "colab": {
      "provenance": [],
      "authorship_tag": "ABX9TyOUXCVeLp1zIjDgyopRvHPV",
      "include_colab_link": true
    },
    "kernelspec": {
      "name": "python3",
      "display_name": "Python 3"
    },
    "language_info": {
      "name": "python"
    }
  },
  "cells": [
    {
      "cell_type": "markdown",
      "metadata": {
        "id": "view-in-github",
        "colab_type": "text"
      },
      "source": [
        "<a href=\"https://colab.research.google.com/github/Junio-roque/python_googlecolab/blob/main/anoEIdade.ipynb\" target=\"_parent\"><img src=\"https://colab.research.google.com/assets/colab-badge.svg\" alt=\"Open In Colab\"/></a>"
      ]
    },
    {
      "cell_type": "markdown",
      "source": [
        "Desenvolva um programa que recebe do usuário nome completo e ano de nascimento que seja entre 1922 e 2021.\n",
        "A partir dessas informações, o sistema mostrará o nome do usuário e a idade que completou, ou completará, no ano atual (2022).\n",
        "\n",
        "Caso o usuário não digite um número ou apareça um inválido no campo do ano, o sistema informará o erro e continuará perguntando até que um valor correto seja preenchido."
      ],
      "metadata": {
        "id": "9G39Yqb2wsrc"
      }
    },
    {
      "cell_type": "code",
      "execution_count": 2,
      "metadata": {
        "colab": {
          "base_uri": "https://localhost:8080/"
        },
        "id": "t1XR1wdewrJX",
        "outputId": "34a5102b-9135-4c31-8a33-111e4083d3b4"
      },
      "outputs": [
        {
          "output_type": "stream",
          "name": "stdout",
          "text": [
            "Digite o seu nome completo: 2222\n",
            "Qual e o seu ano de nascimento: 1983\n",
            "Digite o seu nome completo: junio \n",
            "Qual e o seu ano de nascimento: 22222\n",
            "Digite o ano correto entre 1922 a 2021: \n",
            "Digite o seu nome completo: Juino\n",
            "Qual e o seu ano de nascimento: 2\n",
            "Digite o ano correto entre 1922 a 2021: \n",
            "Digite o seu nome completo: junio\n",
            "Qual e o seu ano de nascimento: 2025\n",
            "Digite o ano correto entre 1922 a 2021: \n",
            "Digite o seu nome completo: junio\n",
            "Qual e o seu ano de nascimento: 1983\n",
            "junio sua idade é 38 é em 2021 você vai ter 39.\n"
          ]
        }
      ],
      "source": [
        "def resultado():\n",
        "    while(True):\n",
        "      try:\n",
        "          nome = input(\"Digite o seu nome completo: \")\n",
        "          anoNascimento = int(input(\"Qual e o seu ano de nascimento: \"))\n",
        "\n",
        "          if(nome.isdigit() == False):\n",
        "            if(anoNascimento > 1922) and (anoNascimento < 2021):\n",
        "\n",
        "              idade = 2021 - anoNascimento\n",
        "              idadeNova = idade + 1\n",
        "              print((nome) + \" sua idade é \" + str(idade) + \" é em 2021 você vai ter \" + str(idadeNova) + \".\")\n",
        "              break\n",
        "            else:\n",
        "              print(\"Digite o ano correto entre 1922 a 2021: \")\n",
        "      except:\n",
        "          print(\"Digite o seu nome correto\")\n",
        "\n",
        "resultado()"
      ]
    }
  ]
}
