{
  "nbformat": 4,
  "nbformat_minor": 0,
  "metadata": {
    "colab": {
      "provenance": [],
      "authorship_tag": "ABX9TyMmzql1Zm1FoxszYfWKTP39",
      "include_colab_link": true
    },
    "kernelspec": {
      "name": "python3",
      "display_name": "Python 3"
    },
    "language_info": {
      "name": "python"
    }
  },
  "cells": [
    {
      "cell_type": "markdown",
      "metadata": {
        "id": "view-in-github",
        "colab_type": "text"
      },
      "source": [
        "<a href=\"https://colab.research.google.com/github/Junio-roque/python_googlecolab/blob/main/testandoErro.ipynb\" target=\"_parent\"><img src=\"https://colab.research.google.com/assets/colab-badge.svg\" alt=\"Open In Colab\"/></a>"
      ]
    },
    {
      "cell_type": "markdown",
      "source": [
        "# ProzEducão\n",
        "Faça um programa de 0 a 100 tratando os erros:\n",
        "- Não pode ser menor que zero e não pode ser maior que 100.\n",
        "- Tem que ser um numero inteiro.\n",
        "- Mostra se o numero for divisivel por 2 e 3.\n",
        "- Mostra se o numero e par.\n",
        "\n",
        "\" Equipe de sala dia 03/08/2023 \"\n",
        "- Junio Cezar\n",
        "- Fernanda Toledo\n",
        "\n"
      ],
      "metadata": {
        "id": "ooVW4ZwpVLVL"
      }
    },
    {
      "cell_type": "code",
      "source": [
        "def mostrarNumero():\n",
        "\n",
        "    print(\"Escreva um numero menor ou igual a 100:\")\n",
        "\n",
        "    numero_valido = False\n",
        "\n",
        "    while(numero_valido == False):\n",
        "      try:\n",
        "        numero = int(input())\n",
        "\n",
        "        if (numero <= 100) and (numero >= 0):\n",
        "             print(\"O numero que voce escolheu foi: \" + str(numero))\n",
        "             if(numero % 2 == 0):\n",
        "                print(\"Numero e par.\")\n",
        "                if (numero % 2 == 0) and (numero % 3 == 0):\n",
        "                  print(\"E divisivel por 2 ou 3. \")\n",
        "\n",
        "             numero_valido = True\n",
        "        elif(numero < 0):\n",
        "            print(\"O numero e menor que 0 digite outro numero: \")\n",
        "            continue\n",
        "           # numero_valido = True\n",
        "        else:\n",
        "            print(\"Numero é maior que 100, digite outro numero: \")\n",
        "      except:\n",
        "        print(\"Precisa digitar um numero inteiro: \")\n",
        "\n",
        "\n",
        "\n",
        "mostrarNumero()"
      ],
      "metadata": {
        "id": "xEbEhXRf1b6o",
        "colab": {
          "base_uri": "https://localhost:8080/"
        },
        "outputId": "d9b53d00-d6dc-48b0-c166-a51ce96f3db9"
      },
      "execution_count": 21,
      "outputs": [
        {
          "output_type": "stream",
          "name": "stdout",
          "text": [
            "Escreva um numero menor ou igual a 100:\n",
            "6\n",
            "O numero que voce escolheu foi: 6\n",
            "Numero e par.\n",
            "E divisivel por 2 ou 3. \n"
          ]
        }
      ]
    }
  ]
}