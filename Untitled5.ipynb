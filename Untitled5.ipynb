{
  "nbformat": 4,
  "nbformat_minor": 0,
  "metadata": {
    "colab": {
      "provenance": [],
      "authorship_tag": "ABX9TyP7JQxuAggMrsEyOGevUO5G",
      "include_colab_link": true
    },
    "kernelspec": {
      "name": "python3",
      "display_name": "Python 3"
    },
    "language_info": {
      "name": "python"
    }
  },
  "cells": [
    {
      "cell_type": "markdown",
      "metadata": {
        "id": "view-in-github",
        "colab_type": "text"
      },
      "source": [
        "<a href=\"https://colab.research.google.com/github/Junio-roque/python_googlecolab/blob/main/Untitled5.ipynb\" target=\"_parent\"><img src=\"https://colab.research.google.com/assets/colab-badge.svg\" alt=\"Open In Colab\"/></a>"
      ]
    },
    {
      "cell_type": "markdown",
      "source": [
        "Faça uma função calculadora de dois números com três parâmetros: <br>\n",
        "- os dois primeiros serão os números da operação\n",
        "- e o terceiro será a entrada que definirá a operação a ser executada. <br>\n",
        "\n",
        "Considera a seguinte definição:\n",
        "  1. Soma\n",
        "  2. Subtração\n",
        "  3. Multiplicação\n",
        "  4. Divisão\n",
        "  <br>\n",
        "  \n",
        "Caso seja inserido um número de operação que não exista, o resultado deverá ser 0."
      ],
      "metadata": {
        "id": "IP-UE5fBIVHT"
      }
    },
    {
      "cell_type": "code",
      "source": [
        "def operacao(num1, num2, operacao):\n",
        "  if(operacao == 1):\n",
        "    total = num1 + num2\n",
        "  elif(operacao == 2):\n",
        "    total = num1 - num2\n",
        "  elif(operacao == 3):\n",
        "    total = num1 * num2\n",
        "  elif(operacao == 4):\n",
        "    total = num1 / num2\n",
        "  else:\n",
        "    total = 0\n",
        "\n",
        "  return total\n",
        "\n",
        "print(operacao(2, 2, 3))"
      ],
      "metadata": {
        "colab": {
          "base_uri": "https://localhost:8080/"
        },
        "id": "BS2fOExKJxvc",
        "outputId": "19da3dd8-fcc5-4c8b-c98e-0fb5741864af"
      },
      "execution_count": 1,
      "outputs": [
        {
          "output_type": "stream",
          "name": "stdout",
          "text": [
            "4\n"
          ]
        }
      ]
    }
  ]
}